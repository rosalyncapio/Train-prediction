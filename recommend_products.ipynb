{
 "cells": [
  {
   "cell_type": "code",
   "execution_count": 1,
   "metadata": {},
   "outputs": [
    {
     "name": "stdout",
     "output_type": "stream",
     "text": [
      "Recommended Products for CUST001: Index(['Accelegrow', 'Super M', 'Frowncide'], dtype='object', name='Item Name')\n"
     ]
    }
   ],
   "source": [
    "import joblib\n",
    "\n",
    "# Load the saved model and user-item matrix\n",
    "model = joblib.load('product_recommendation_model.joblib')\n",
    "user_item_matrix = joblib.load('user_item_matrix.joblib')\n",
    "\n",
    "# Function to recommend products\n",
    "def recommend_products(user_id, user_item_matrix, model, n_recommendations=3):\n",
    "    user_idx = user_item_matrix.index.get_loc(user_id)\n",
    "    user_scores = model.inverse_transform(model.transform(user_item_matrix))[user_idx]\n",
    "    product_indices = user_scores.argsort()[-n_recommendations:][::-1]\n",
    "    recommended_products = user_item_matrix.columns[product_indices]\n",
    "    return recommended_products\n",
    "\n",
    "# Example: Recommend products for a customer\n",
    "user_id = 'CUST001'\n",
    "print(f\"Recommended Products for {user_id}: {recommend_products(user_id, user_item_matrix, model)}\")\n"
   ]
  }
 ],
 "metadata": {
  "kernelspec": {
   "display_name": "env",
   "language": "python",
   "name": "python3"
  },
  "language_info": {
   "codemirror_mode": {
    "name": "ipython",
    "version": 3
   },
   "file_extension": ".py",
   "mimetype": "text/x-python",
   "name": "python",
   "nbconvert_exporter": "python",
   "pygments_lexer": "ipython3",
   "version": "3.12.7"
  }
 },
 "nbformat": 4,
 "nbformat_minor": 2
}
