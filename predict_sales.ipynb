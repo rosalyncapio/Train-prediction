{
 "cells": [
  {
   "cell_type": "code",
   "execution_count": 1,
   "metadata": {},
   "outputs": [
    {
     "name": "stdout",
     "output_type": "stream",
     "text": [
      "Predicted Sales for 2025 January: PHP 37,053.28\n"
     ]
    }
   ],
   "source": [
    "import pandas as pd\n",
    "import joblib\n",
    "\n",
    "# Load the saved model and scaler\n",
    "model = joblib.load('sales_prediction_model.joblib')\n",
    "scaler = joblib.load('scaler_sales_prediction.joblib')\n",
    "\n",
    "# Example: Predict sales for 2025 January\n",
    "new_data = pd.DataFrame({\n",
    "    'Month': [10],\n",
    "    'Promo Active': [9],\n",
    "    'Holiday/Season': [2],\n",
    "    'Economic Indicator': [1],\n",
    "    'Previous Month Sales': [100]  # Example value\n",
    "})\n",
    "\n",
    "# Scale the data\n",
    "new_data_scaled = scaler.transform(new_data)\n",
    "\n",
    "# Predict\n",
    "predicted_sales = model.predict(new_data_scaled)\n",
    "print(f\"Predicted Sales for 2025 January: PHP {predicted_sales[0]:,.2f}\")\n"
   ]
  }
 ],
 "metadata": {
  "kernelspec": {
   "display_name": "env",
   "language": "python",
   "name": "python3"
  },
  "language_info": {
   "codemirror_mode": {
    "name": "ipython",
    "version": 3
   },
   "file_extension": ".py",
   "mimetype": "text/x-python",
   "name": "python",
   "nbconvert_exporter": "python",
   "pygments_lexer": "ipython3",
   "version": "3.12.7"
  }
 },
 "nbformat": 4,
 "nbformat_minor": 2
}
